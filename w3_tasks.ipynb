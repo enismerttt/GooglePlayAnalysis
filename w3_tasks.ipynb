{
 "cells": [
  {
   "cell_type": "markdown",
   "metadata": {
    "id": "rXhPt7z_yyo0"
   },
   "source": [
    "print a table and a plot chart for top 5 download apps in each category free and paid (if there is paid)"
   ]
  },
  {
   "cell_type": "code",
   "execution_count": 1,
   "metadata": {
    "id": "CUaA-19rvF89"
   },
   "outputs": [],
   "source": [
    "import numpy as np\n",
    "import pandas as pd\n",
    "\n",
    "playstore = pd.read_csv('https://raw.githubusercontent.com/b21527486/data_science/main/cleaned_playstore.csv')\n",
    "playstoreReviews = pd.read_csv('https://raw.githubusercontent.com/b21527486/data_science/main/cleaned_playstore_reviews.csv')\n",
    "\n",
    "ps = playstore\n",
    "psr = playstoreReviews"
   ]
  },
  {
   "cell_type": "code",
   "execution_count": 2,
   "metadata": {
    "id": "fxW7QW92yvp9"
   },
   "outputs": [],
   "source": [
    "FreeTop5s = ps[ps['Type'] == 'Free'].groupby('Category', group_keys=False).apply( lambda grp: grp.nlargest(5, 'Installs') )\n",
    "PaidTop5s = ps[ps['Type'] == 'Paid'].groupby('Category', group_keys=False).apply( lambda grp: grp.nlargest(5, 'Installs') )\n",
    "\n",
    "Top5apps = pd.concat([FreeTop5s, PaidTop5s])\n",
    "Top5apps[\"Category\"] = Top5apps[\"Category\"].str.replace(\"_\", \" \").str.title()"
   ]
  },
  {
   "cell_type": "code",
   "execution_count": 4,
   "metadata": {
    "colab": {
     "base_uri": "https://localhost:8080/",
     "height": 639
    },
    "id": "O1IYa9_UdFlp",
    "outputId": "b0f08eb6-0573-4fa7-fc36-f6ca5537dc51"
   },
   "outputs": [
    {
     "name": "stderr",
     "output_type": "stream",
     "text": [
      "c:\\Users\\Enis Mert Kiriş\\AppData\\Local\\Programs\\Python\\Python311\\Lib\\site-packages\\pandas\\core\\arraylike.py:402: RuntimeWarning: divide by zero encountered in log10\n",
      "  result = getattr(ufunc, method)(*inputs, **kwargs)\n"
     ]
    },
    {
     "ename": "AttributeError",
     "evalue": "PathCollection.set() got an unexpected keyword argument 'ascending'",
     "output_type": "error",
     "traceback": [
      "\u001b[1;31m---------------------------------------------------------------------------\u001b[0m",
      "\u001b[1;31mAttributeError\u001b[0m                            Traceback (most recent call last)",
      "Cell \u001b[1;32mIn[4], line 12\u001b[0m\n\u001b[0;32m      9\u001b[0m plt\u001b[39m.\u001b[39mxscale(\u001b[39m'\u001b[39m\u001b[39mlog\u001b[39m\u001b[39m'\u001b[39m)\n\u001b[0;32m     11\u001b[0m \u001b[39m# Show each observation with a scatterplot\u001b[39;00m\n\u001b[1;32m---> 12\u001b[0m sns\u001b[39m.\u001b[39;49mstripplot(\n\u001b[0;32m     13\u001b[0m     data\u001b[39m=\u001b[39;49mTop5apps, x\u001b[39m=\u001b[39;49m\u001b[39m\"\u001b[39;49m\u001b[39mInstalls\u001b[39;49m\u001b[39m\"\u001b[39;49m, y\u001b[39m=\u001b[39;49m\u001b[39m\"\u001b[39;49m\u001b[39mCategory\u001b[39;49m\u001b[39m\"\u001b[39;49m, hue\u001b[39m=\u001b[39;49m\u001b[39m\"\u001b[39;49m\u001b[39mType\u001b[39;49m\u001b[39m\"\u001b[39;49m,\n\u001b[0;32m     14\u001b[0m     dodge\u001b[39m=\u001b[39;49m\u001b[39mTrue\u001b[39;49;00m, alpha\u001b[39m=\u001b[39;49m\u001b[39m.25\u001b[39;49m, zorder\u001b[39m=\u001b[39;49m\u001b[39m1\u001b[39;49m, ascending\u001b[39m=\u001b[39;49m\u001b[39mTrue\u001b[39;49;00m\n\u001b[0;32m     15\u001b[0m )\n",
      "File \u001b[1;32mc:\\Users\\Enis Mert Kiriş\\AppData\\Local\\Programs\\Python\\Python311\\Lib\\site-packages\\seaborn\\categorical.py:2537\u001b[0m, in \u001b[0;36mstripplot\u001b[1;34m(data, x, y, hue, order, hue_order, jitter, dodge, orient, color, palette, size, edgecolor, linewidth, hue_norm, native_scale, formatter, legend, ax, **kwargs)\u001b[0m\n\u001b[0;32m   2529\u001b[0m size \u001b[39m=\u001b[39m kwargs\u001b[39m.\u001b[39mget(\u001b[39m\"\u001b[39m\u001b[39ms\u001b[39m\u001b[39m\"\u001b[39m, size)\n\u001b[0;32m   2531\u001b[0m kwargs\u001b[39m.\u001b[39mupdate(\u001b[39mdict\u001b[39m(\n\u001b[0;32m   2532\u001b[0m     s\u001b[39m=\u001b[39msize \u001b[39m*\u001b[39m\u001b[39m*\u001b[39m \u001b[39m2\u001b[39m,\n\u001b[0;32m   2533\u001b[0m     edgecolor\u001b[39m=\u001b[39medgecolor,\n\u001b[0;32m   2534\u001b[0m     linewidth\u001b[39m=\u001b[39mlinewidth)\n\u001b[0;32m   2535\u001b[0m )\n\u001b[1;32m-> 2537\u001b[0m p\u001b[39m.\u001b[39;49mplot_strips(\n\u001b[0;32m   2538\u001b[0m     jitter\u001b[39m=\u001b[39;49mjitter,\n\u001b[0;32m   2539\u001b[0m     dodge\u001b[39m=\u001b[39;49mdodge,\n\u001b[0;32m   2540\u001b[0m     color\u001b[39m=\u001b[39;49mcolor,\n\u001b[0;32m   2541\u001b[0m     edgecolor\u001b[39m=\u001b[39;49medgecolor,\n\u001b[0;32m   2542\u001b[0m     plot_kws\u001b[39m=\u001b[39;49mkwargs,\n\u001b[0;32m   2543\u001b[0m )\n\u001b[0;32m   2545\u001b[0m \u001b[39m# XXX this happens inside a plotting method in the distribution plots\u001b[39;00m\n\u001b[0;32m   2546\u001b[0m \u001b[39m# but maybe it's better out here? Alternatively, we have an open issue\u001b[39;00m\n\u001b[0;32m   2547\u001b[0m \u001b[39m# suggesting that _attach could add default axes labels, which seems smart.\u001b[39;00m\n\u001b[0;32m   2548\u001b[0m p\u001b[39m.\u001b[39m_add_axis_labels(ax)\n",
      "File \u001b[1;32mc:\\Users\\Enis Mert Kiriş\\AppData\\Local\\Programs\\Python\\Python311\\Lib\\site-packages\\seaborn\\categorical.py:299\u001b[0m, in \u001b[0;36m_CategoricalPlotterNew.plot_strips\u001b[1;34m(self, jitter, dodge, color, edgecolor, plot_kws)\u001b[0m\n\u001b[0;32m    296\u001b[0m         sub_data[var] \u001b[39m=\u001b[39m np\u001b[39m.\u001b[39mpower(\u001b[39m10\u001b[39m, sub_data[var])\n\u001b[0;32m    298\u001b[0m ax \u001b[39m=\u001b[39m \u001b[39mself\u001b[39m\u001b[39m.\u001b[39m_get_axes(sub_vars)\n\u001b[1;32m--> 299\u001b[0m points \u001b[39m=\u001b[39m ax\u001b[39m.\u001b[39;49mscatter(sub_data[\u001b[39m\"\u001b[39;49m\u001b[39mx\u001b[39;49m\u001b[39m\"\u001b[39;49m], sub_data[\u001b[39m\"\u001b[39;49m\u001b[39my\u001b[39;49m\u001b[39m\"\u001b[39;49m], color\u001b[39m=\u001b[39;49mcolor, \u001b[39m*\u001b[39;49m\u001b[39m*\u001b[39;49mplot_kws)\n\u001b[0;32m    301\u001b[0m \u001b[39mif\u001b[39;00m \u001b[39m\"\u001b[39m\u001b[39mhue\u001b[39m\u001b[39m\"\u001b[39m \u001b[39min\u001b[39;00m \u001b[39mself\u001b[39m\u001b[39m.\u001b[39mvariables:\n\u001b[0;32m    302\u001b[0m     points\u001b[39m.\u001b[39mset_facecolors(\u001b[39mself\u001b[39m\u001b[39m.\u001b[39m_hue_map(sub_data[\u001b[39m\"\u001b[39m\u001b[39mhue\u001b[39m\u001b[39m\"\u001b[39m]))\n",
      "File \u001b[1;32mc:\\Users\\Enis Mert Kiriş\\AppData\\Local\\Programs\\Python\\Python311\\Lib\\site-packages\\matplotlib\\__init__.py:1423\u001b[0m, in \u001b[0;36m_preprocess_data.<locals>.inner\u001b[1;34m(ax, data, *args, **kwargs)\u001b[0m\n\u001b[0;32m   1420\u001b[0m \u001b[39m@functools\u001b[39m\u001b[39m.\u001b[39mwraps(func)\n\u001b[0;32m   1421\u001b[0m \u001b[39mdef\u001b[39;00m \u001b[39minner\u001b[39m(ax, \u001b[39m*\u001b[39margs, data\u001b[39m=\u001b[39m\u001b[39mNone\u001b[39;00m, \u001b[39m*\u001b[39m\u001b[39m*\u001b[39mkwargs):\n\u001b[0;32m   1422\u001b[0m     \u001b[39mif\u001b[39;00m data \u001b[39mis\u001b[39;00m \u001b[39mNone\u001b[39;00m:\n\u001b[1;32m-> 1423\u001b[0m         \u001b[39mreturn\u001b[39;00m func(ax, \u001b[39m*\u001b[39;49m\u001b[39mmap\u001b[39;49m(sanitize_sequence, args), \u001b[39m*\u001b[39;49m\u001b[39m*\u001b[39;49mkwargs)\n\u001b[0;32m   1425\u001b[0m     bound \u001b[39m=\u001b[39m new_sig\u001b[39m.\u001b[39mbind(ax, \u001b[39m*\u001b[39margs, \u001b[39m*\u001b[39m\u001b[39m*\u001b[39mkwargs)\n\u001b[0;32m   1426\u001b[0m     auto_label \u001b[39m=\u001b[39m (bound\u001b[39m.\u001b[39marguments\u001b[39m.\u001b[39mget(label_namer)\n\u001b[0;32m   1427\u001b[0m                   \u001b[39mor\u001b[39;00m bound\u001b[39m.\u001b[39mkwargs\u001b[39m.\u001b[39mget(label_namer))\n",
      "File \u001b[1;32mc:\\Users\\Enis Mert Kiriş\\AppData\\Local\\Programs\\Python\\Python311\\Lib\\site-packages\\matplotlib\\axes\\_axes.py:4634\u001b[0m, in \u001b[0;36mAxes.scatter\u001b[1;34m(self, x, y, s, c, marker, cmap, norm, vmin, vmax, alpha, linewidths, edgecolors, plotnonfinite, **kwargs)\u001b[0m\n\u001b[0;32m   4630\u001b[0m         keys_str \u001b[39m=\u001b[39m \u001b[39m\"\u001b[39m\u001b[39m, \u001b[39m\u001b[39m\"\u001b[39m\u001b[39m.\u001b[39mjoin(\u001b[39mf\u001b[39m\u001b[39m\"\u001b[39m\u001b[39m'\u001b[39m\u001b[39m{\u001b[39;00mk\u001b[39m}\u001b[39;00m\u001b[39m'\u001b[39m\u001b[39m\"\u001b[39m \u001b[39mfor\u001b[39;00m k \u001b[39min\u001b[39;00m extra_keys)\n\u001b[0;32m   4631\u001b[0m         _api\u001b[39m.\u001b[39mwarn_external(\n\u001b[0;32m   4632\u001b[0m             \u001b[39m\"\u001b[39m\u001b[39mNo data for colormapping provided via \u001b[39m\u001b[39m'\u001b[39m\u001b[39mc\u001b[39m\u001b[39m'\u001b[39m\u001b[39m. \u001b[39m\u001b[39m\"\u001b[39m\n\u001b[0;32m   4633\u001b[0m             \u001b[39mf\u001b[39m\u001b[39m\"\u001b[39m\u001b[39mParameters \u001b[39m\u001b[39m{\u001b[39;00mkeys_str\u001b[39m}\u001b[39;00m\u001b[39m will be ignored\u001b[39m\u001b[39m\"\u001b[39m)\n\u001b[1;32m-> 4634\u001b[0m collection\u001b[39m.\u001b[39;49m_internal_update(kwargs)\n\u001b[0;32m   4636\u001b[0m \u001b[39m# Classic mode only:\u001b[39;00m\n\u001b[0;32m   4637\u001b[0m \u001b[39m# ensure there are margins to allow for the\u001b[39;00m\n\u001b[0;32m   4638\u001b[0m \u001b[39m# finite size of the symbols.  In v2.x, margins\u001b[39;00m\n\u001b[0;32m   4639\u001b[0m \u001b[39m# are present by default, so we disable this\u001b[39;00m\n\u001b[0;32m   4640\u001b[0m \u001b[39m# scatter-specific override.\u001b[39;00m\n\u001b[0;32m   4641\u001b[0m \u001b[39mif\u001b[39;00m mpl\u001b[39m.\u001b[39mrcParams[\u001b[39m'\u001b[39m\u001b[39m_internal.classic_mode\u001b[39m\u001b[39m'\u001b[39m]:\n",
      "File \u001b[1;32mc:\\Users\\Enis Mert Kiriş\\AppData\\Local\\Programs\\Python\\Python311\\Lib\\site-packages\\matplotlib\\artist.py:1186\u001b[0m, in \u001b[0;36mArtist._internal_update\u001b[1;34m(self, kwargs)\u001b[0m\n\u001b[0;32m   1179\u001b[0m \u001b[39mdef\u001b[39;00m \u001b[39m_internal_update\u001b[39m(\u001b[39mself\u001b[39m, kwargs):\n\u001b[0;32m   1180\u001b[0m     \u001b[39m\"\"\"\u001b[39;00m\n\u001b[0;32m   1181\u001b[0m \u001b[39m    Update artist properties without prenormalizing them, but generating\u001b[39;00m\n\u001b[0;32m   1182\u001b[0m \u001b[39m    errors as if calling `set`.\u001b[39;00m\n\u001b[0;32m   1183\u001b[0m \n\u001b[0;32m   1184\u001b[0m \u001b[39m    The lack of prenormalization is to maintain backcompatibility.\u001b[39;00m\n\u001b[0;32m   1185\u001b[0m \u001b[39m    \"\"\"\u001b[39;00m\n\u001b[1;32m-> 1186\u001b[0m     \u001b[39mreturn\u001b[39;00m \u001b[39mself\u001b[39;49m\u001b[39m.\u001b[39;49m_update_props(\n\u001b[0;32m   1187\u001b[0m         kwargs, \u001b[39m\"\u001b[39;49m\u001b[39m{cls.__name__}\u001b[39;49;00m\u001b[39m.set() got an unexpected keyword argument \u001b[39;49m\u001b[39m\"\u001b[39;49m\n\u001b[0;32m   1188\u001b[0m         \u001b[39m\"\u001b[39;49m\u001b[39m{prop_name!r}\u001b[39;49;00m\u001b[39m\"\u001b[39;49m)\n",
      "File \u001b[1;32mc:\\Users\\Enis Mert Kiriş\\AppData\\Local\\Programs\\Python\\Python311\\Lib\\site-packages\\matplotlib\\artist.py:1160\u001b[0m, in \u001b[0;36mArtist._update_props\u001b[1;34m(self, props, errfmt)\u001b[0m\n\u001b[0;32m   1158\u001b[0m             func \u001b[39m=\u001b[39m \u001b[39mgetattr\u001b[39m(\u001b[39mself\u001b[39m, \u001b[39mf\u001b[39m\u001b[39m\"\u001b[39m\u001b[39mset_\u001b[39m\u001b[39m{\u001b[39;00mk\u001b[39m}\u001b[39;00m\u001b[39m\"\u001b[39m, \u001b[39mNone\u001b[39;00m)\n\u001b[0;32m   1159\u001b[0m             \u001b[39mif\u001b[39;00m \u001b[39mnot\u001b[39;00m callable(func):\n\u001b[1;32m-> 1160\u001b[0m                 \u001b[39mraise\u001b[39;00m \u001b[39mAttributeError\u001b[39;00m(\n\u001b[0;32m   1161\u001b[0m                     errfmt\u001b[39m.\u001b[39mformat(\u001b[39mcls\u001b[39m\u001b[39m=\u001b[39m\u001b[39mtype\u001b[39m(\u001b[39mself\u001b[39m), prop_name\u001b[39m=\u001b[39mk))\n\u001b[0;32m   1162\u001b[0m             ret\u001b[39m.\u001b[39mappend(func(v))\n\u001b[0;32m   1163\u001b[0m \u001b[39mif\u001b[39;00m ret:\n",
      "\u001b[1;31mAttributeError\u001b[0m: PathCollection.set() got an unexpected keyword argument 'ascending'"
     ]
    },
    {
     "data": {
      "image/png": "[encoded data removed]",
      "text/plain": [
       "<Figure size 480x720 with 1 Axes>"
      ]
     },
     "metadata": {},
     "output_type": "display_data"
    }
   ],
   "source": [
    "import seaborn as sns\n",
    "import matplotlib.pyplot as plt\n",
    "\n",
    "sns.set_theme(style=\"whitegrid\")\n",
    "\n",
    "# Initialize the figure\n",
    "f, ax = plt.subplots(figsize=(6, 9), dpi=80)\n",
    "sns.despine(bottom=True, left=True)\n",
    "plt.xscale('log')\n",
    "\n",
    "# Show each observation with a scatterplot\n",
    "sns.stripplot(\n",
    "    data=Top5apps, x=\"Installs\", y=\"Category\", hue=\"Type\",\n",
    "    dodge=True, alpha=.25, zorder=1 \n",
    ")\n"
   ]
  }
 ],
 "metadata": {
  "colab": {
   "provenance": []
  },
  "kernelspec": {
   "display_name": "Python 3 (ipykernel)",
   "language": "python",
   "name": "python3"
  },
  "language_info": {
   "codemirror_mode": {
    "name": "ipython",
    "version": 3
   },
   "file_extension": ".py",
   "mimetype": "text/x-python",
   "name": "python",
   "nbconvert_exporter": "python",
   "pygments_lexer": "ipython3",
   "version": "3.11.1"
  },
  "vscode": {
   "interpreter": {
    "hash": "7576b70e3c9c2d945cc2c0ae8b0adb9115c642a2980482e62cda66cf13cbfed4"
   }
  }
 },
 "nbformat": 4,
 "nbformat_minor": 4
}
