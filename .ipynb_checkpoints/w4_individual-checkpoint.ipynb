{
 "cells": [
  {
   "cell_type": "markdown",
   "id": "9181f08d-75e0-469d-900e-6410daa0066c",
   "metadata": {
    "tags": []
   },
   "source": [
    "### 1-split dataset into 4 parts and pickle them (search for pickle if you don't know what it is)"
   ]
  },
  {
   "cell_type": "code",
   "execution_count": 6,
   "id": "628eceaf-cea7-45a4-b814-bcccfe367db1",
   "metadata": {},
   "outputs": [],
   "source": [
    "import pickle\n",
    "import pandas as pd\n",
    "import numpy as np\n",
    "\n",
    "dataset = pd.read_csv('googleplaystore.csv')\n",
    "\n",
    "part1 = dataset[:len(dataset)//4]\n",
    "part2 = dataset[len(dataset)//4:len(dataset)//2]\n",
    "part3 = dataset[len(dataset)//2:3*len(dataset)//4]\n",
    "part4 = dataset[3*len(dataset)//4:]\n",
    "\n",
    "with open('part1.pkl', 'wb') as f:\n",
    "    pickle.dump(part1, f)\n",
    "\n",
    "with open('part2.pkl', 'wb') as f:\n",
    "    pickle.dump(part2, f)\n",
    "\n",
    "with open('part3.pkl', 'wb') as f:\n",
    "    pickle.dump(part3, f)\n",
    "\n",
    "with open('part4.pkl', 'wb') as f:\n",
    "    pickle.dump(part4, f)"
   ]
  },
  {
   "cell_type": "markdown",
   "id": "aec54a20-2eaf-41e6-9aad-535b68253a92",
   "metadata": {},
   "source": [
    "### 2-unlock the pickling and merge the dataset as follow 2-4-1-3"
   ]
  },
  {
   "cell_type": "code",
   "execution_count": 7,
   "id": "28780b85-b1a0-4855-9099-5b2b4db4846f",
   "metadata": {},
   "outputs": [],
   "source": [
    "part2 = pd.read_pickle(r'part2.pkl')\n",
    "part4 = pd.read_pickle(r'part4.pkl')\n",
    "part1 = pd.read_pickle(r'part1.pkl')\n",
    "part3 = pd.read_pickle(r'part3.pkl')\n",
    "merged_df=[(part2, f) + (part4, f) + (part1, f) + (part3, f)]\n"
   ]
  },
  {
   "cell_type": "markdown",
   "id": "0c0eaba5-4ab6-44c8-ac3d-1ecf2793894a",
   "metadata": {},
   "source": [
    "### 3-reverse the whole data set (the last row will be the first one)"
   ]
  },
  {
   "cell_type": "code",
   "execution_count": 9,
   "id": "87d1e7fe-bc51-414d-ad51-fabddec13397",
   "metadata": {},
   "outputs": [],
   "source": [
    "def reverse_dataset(dataset):\n",
    "    return dataset[::-1]\n",
    "reverse_df = reverse_dataset(dataset)"
   ]
  },
  {
   "cell_type": "markdown",
   "id": "ec644ddc-c734-4308-9b02-d5e6965969dd",
   "metadata": {},
   "source": [
    "### 4-apply sliding window technic and store the patches in a 2D list"
   ]
  },
  {
   "cell_type": "code",
   "execution_count": 14,
   "id": "f9f76d98-74c0-4e12-b3de-e341e83ca10b",
   "metadata": {},
   "outputs": [
    {
     "name": "stdout",
     "output_type": "stream",
     "text": [
      "[array(['Photo Editor & Candy Camera & Grid & ScrapBook', 'ART_AND_DESIGN',\n",
      "       4.1, '159', '19M', '10,000+', 'Free', '0', 'Everyone',\n",
      "       'Art & Design', 'January 7, 2018', '1.0.0', '4.0.3 and up'],\n",
      "      dtype=object), array(['Coloring book moana', 'ART_AND_DESIGN', 3.9, '967', '14M',\n",
      "       '500,000+', 'Free', '0', 'Everyone', 'Art & Design;Pretend Play',\n",
      "       'January 15, 2018', '2.0.0', '4.0.3 and up'], dtype=object), array(['U Launcher Lite – FREE Live Cool Themes, Hide Apps',\n",
      "       'ART_AND_DESIGN', 4.7, '87510', '8.7M', '5,000,000+', 'Free', '0',\n",
      "       'Everyone', 'Art & Design', 'August 1, 2018', '1.2.4',\n",
      "       '4.0.3 and up'], dtype=object), array(['Sketch - Draw & Paint', 'ART_AND_DESIGN', 4.5, '215644', '25M',\n",
      "       '50,000,000+', 'Free', '0', 'Teen', 'Art & Design', 'June 8, 2018',\n",
      "       'Varies with device', '4.2 and up'], dtype=object), array(['Pixel Draw - Number Art Coloring Book', 'ART_AND_DESIGN', 4.3,\n",
      "       '967', '2.8M', '100,000+', 'Free', '0', 'Everyone',\n",
      "       'Art & Design;Creativity', 'June 20, 2018', '1.1', '4.4 and up'],\n",
      "      dtype=object)]\n",
      "[array(['Paper flowers instructions', 'ART_AND_DESIGN', 4.4, '167', '5.6M',\n",
      "       '50,000+', 'Free', '0', 'Everyone', 'Art & Design',\n",
      "       'March 26, 2017', '1.0', '2.3 and up'], dtype=object), array(['Smoke Effect Photo Maker - Smoke Editor', 'ART_AND_DESIGN', 3.8,\n",
      "       '178', '19M', '50,000+', 'Free', '0', 'Everyone', 'Art & Design',\n",
      "       'April 26, 2018', '1.1', '4.0.3 and up'], dtype=object)]\n"
     ]
    }
   ],
   "source": [
    "def slicing_window(x,source,target):\n",
    "    two_dimensional_lst = []\n",
    "    for i in range(0, len(x),target):\n",
    "        first_dim = []\n",
    "        second_dim = []\n",
    "        for j in range(source):\n",
    "            if i+j < len(x):\n",
    "                first_dim.append((x[i+j]))\n",
    "        for j in range(target):\n",
    "            if i+j+(source) < len(x):\n",
    "                second_dim.append((x[i+j+(source)]))\n",
    "        two_dimensional_lst.append([first_dim, second_dim])\n",
    "    return two_dimensional_lst\n",
    "example=[]\n",
    "arrayy=dataset.to_numpy()\n",
    "\n",
    "#for i in range(1,100):\n",
    "   # example.append(i)\n",
    "twodlist = slicing_window(arrayy,5,2)\n",
    "print(twodlist[0][0])\n",
    "print(twodlist[0][1])\n"
   ]
  },
  {
   "cell_type": "code",
   "execution_count": null,
   "id": "2c45feab-5e71-4e5d-a424-cb6b3ce5d8b5",
   "metadata": {},
   "outputs": [],
   "source": []
  }
 ],
 "metadata": {
  "kernelspec": {
   "display_name": "Python 3 (ipykernel)",
   "language": "python",
   "name": "python3"
  },
  "language_info": {
   "codemirror_mode": {
    "name": "ipython",
    "version": 3
   },
   "file_extension": ".py",
   "mimetype": "text/x-python",
   "name": "python",
   "nbconvert_exporter": "python",
   "pygments_lexer": "ipython3",
   "version": "3.11.1"
  }
 },
 "nbformat": 4,
 "nbformat_minor": 5
}
